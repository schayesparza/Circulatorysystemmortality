{
 "cells": [
  {
   "cell_type": "markdown",
   "id": "fce4242f",
   "metadata": {},
   "source": [
    "# Task 6.1"
   ]
  },
  {
   "cell_type": "code",
   "execution_count": 3,
   "id": "1d34c6b9",
   "metadata": {},
   "outputs": [],
   "source": [
    "# Setting up the environment\n",
    "import pandas as pd\n",
    "import numpy as np\n",
    "import os\n",
    "import matplotlib.pyplot as plt\n",
    "import seaborn as sns\n",
    "import scipy"
   ]
  },
  {
   "cell_type": "code",
   "execution_count": 4,
   "id": "ae234b1f",
   "metadata": {},
   "outputs": [],
   "source": [
    "#Create a path\n",
    "path = r'C:\\Users\\manny\\Documents\\Circulatory Death Analysis'"
   ]
  },
  {
   "cell_type": "code",
   "execution_count": 5,
   "id": "1d5a1499",
   "metadata": {},
   "outputs": [],
   "source": [
    "#Import data set\n",
    "\n",
    "df_deaths=pd.read_csv(r'C:\\Users\\manny\\Documents\\Circulatory Death Analysis\\02 Data\\Original Data\\deaths.csv',index_col=False)"
   ]
  },
  {
   "cell_type": "code",
   "execution_count": 6,
   "id": "5976d64d",
   "metadata": {},
   "outputs": [
    {
     "data": {
      "text/plain": [
       "(9489, 7)"
      ]
     },
     "execution_count": 6,
     "metadata": {},
     "output_type": "execute_result"
    }
   ],
   "source": [
    "df_deaths.shape"
   ]
  },
  {
   "cell_type": "code",
   "execution_count": 7,
   "id": "8e21f099",
   "metadata": {},
   "outputs": [
    {
     "data": {
      "text/html": [
       "<div>\n",
       "<style scoped>\n",
       "    .dataframe tbody tr th:only-of-type {\n",
       "        vertical-align: middle;\n",
       "    }\n",
       "\n",
       "    .dataframe tbody tr th {\n",
       "        vertical-align: top;\n",
       "    }\n",
       "\n",
       "    .dataframe thead th {\n",
       "        text-align: right;\n",
       "    }\n",
       "</style>\n",
       "<table border=\"1\" class=\"dataframe\">\n",
       "  <thead>\n",
       "    <tr style=\"text-align: right;\">\n",
       "      <th></th>\n",
       "      <th>State</th>\n",
       "      <th>Race</th>\n",
       "      <th>Ten-Year Age Groups</th>\n",
       "      <th>Year</th>\n",
       "      <th>Gender</th>\n",
       "      <th>Deaths</th>\n",
       "      <th>Population</th>\n",
       "    </tr>\n",
       "  </thead>\n",
       "  <tbody>\n",
       "    <tr>\n",
       "      <th>0</th>\n",
       "      <td>Alabama</td>\n",
       "      <td>Asian or Pacific Islander</td>\n",
       "      <td>55-64 years</td>\n",
       "      <td>2017</td>\n",
       "      <td>Male</td>\n",
       "      <td>10</td>\n",
       "      <td>3373</td>\n",
       "    </tr>\n",
       "    <tr>\n",
       "      <th>1</th>\n",
       "      <td>Alabama</td>\n",
       "      <td>Asian or Pacific Islander</td>\n",
       "      <td>65-74 years</td>\n",
       "      <td>2017</td>\n",
       "      <td>Male</td>\n",
       "      <td>10</td>\n",
       "      <td>1711</td>\n",
       "    </tr>\n",
       "    <tr>\n",
       "      <th>2</th>\n",
       "      <td>Alabama</td>\n",
       "      <td>Asian or Pacific Islander</td>\n",
       "      <td>65-74 years</td>\n",
       "      <td>2020</td>\n",
       "      <td>Female</td>\n",
       "      <td>13</td>\n",
       "      <td>3339</td>\n",
       "    </tr>\n",
       "    <tr>\n",
       "      <th>3</th>\n",
       "      <td>Alabama</td>\n",
       "      <td>Asian or Pacific Islander</td>\n",
       "      <td>75-84 years</td>\n",
       "      <td>2016</td>\n",
       "      <td>Female</td>\n",
       "      <td>11</td>\n",
       "      <td>992</td>\n",
       "    </tr>\n",
       "    <tr>\n",
       "      <th>4</th>\n",
       "      <td>Alabama</td>\n",
       "      <td>Asian or Pacific Islander</td>\n",
       "      <td>75-84 years</td>\n",
       "      <td>2017</td>\n",
       "      <td>Female</td>\n",
       "      <td>10</td>\n",
       "      <td>1041</td>\n",
       "    </tr>\n",
       "  </tbody>\n",
       "</table>\n",
       "</div>"
      ],
      "text/plain": [
       "     State                       Race Ten-Year Age Groups  Year  Gender  \\\n",
       "0  Alabama  Asian or Pacific Islander         55-64 years  2017    Male   \n",
       "1  Alabama  Asian or Pacific Islander         65-74 years  2017    Male   \n",
       "2  Alabama  Asian or Pacific Islander         65-74 years  2020  Female   \n",
       "3  Alabama  Asian or Pacific Islander         75-84 years  2016  Female   \n",
       "4  Alabama  Asian or Pacific Islander         75-84 years  2017  Female   \n",
       "\n",
       "   Deaths Population  \n",
       "0      10       3373  \n",
       "1      10       1711  \n",
       "2      13       3339  \n",
       "3      11        992  \n",
       "4      10       1041  "
      ]
     },
     "execution_count": 7,
     "metadata": {},
     "output_type": "execute_result"
    }
   ],
   "source": [
    "df_deaths.head()"
   ]
  },
  {
   "cell_type": "code",
   "execution_count": 8,
   "id": "77dad326",
   "metadata": {},
   "outputs": [
    {
     "data": {
      "text/plain": [
       "State                  0\n",
       "Race                   0\n",
       "Ten-Year Age Groups    0\n",
       "Year                   0\n",
       "Gender                 0\n",
       "Deaths                 0\n",
       "Population             0\n",
       "dtype: int64"
      ]
     },
     "execution_count": 8,
     "metadata": {},
     "output_type": "execute_result"
    }
   ],
   "source": [
    "# Find missing values\n",
    "df_deaths.isnull().sum()"
   ]
  },
  {
   "cell_type": "markdown",
   "id": "e498243f",
   "metadata": {},
   "source": [
    "#### No missing values."
   ]
  },
  {
   "cell_type": "code",
   "execution_count": 10,
   "id": "dc613228",
   "metadata": {},
   "outputs": [],
   "source": [
    "# Finding duplicates\n",
    "\n",
    "df_dups=df_deaths[df_deaths.duplicated()]"
   ]
  },
  {
   "cell_type": "code",
   "execution_count": 11,
   "id": "ab0f1915",
   "metadata": {},
   "outputs": [
    {
     "data": {
      "text/html": [
       "<div>\n",
       "<style scoped>\n",
       "    .dataframe tbody tr th:only-of-type {\n",
       "        vertical-align: middle;\n",
       "    }\n",
       "\n",
       "    .dataframe tbody tr th {\n",
       "        vertical-align: top;\n",
       "    }\n",
       "\n",
       "    .dataframe thead th {\n",
       "        text-align: right;\n",
       "    }\n",
       "</style>\n",
       "<table border=\"1\" class=\"dataframe\">\n",
       "  <thead>\n",
       "    <tr style=\"text-align: right;\">\n",
       "      <th></th>\n",
       "      <th>State</th>\n",
       "      <th>Race</th>\n",
       "      <th>Ten-Year Age Groups</th>\n",
       "      <th>Year</th>\n",
       "      <th>Gender</th>\n",
       "      <th>Deaths</th>\n",
       "      <th>Population</th>\n",
       "    </tr>\n",
       "  </thead>\n",
       "  <tbody>\n",
       "  </tbody>\n",
       "</table>\n",
       "</div>"
      ],
      "text/plain": [
       "Empty DataFrame\n",
       "Columns: [State, Race, Ten-Year Age Groups, Year, Gender, Deaths, Population]\n",
       "Index: []"
      ]
     },
     "execution_count": 11,
     "metadata": {},
     "output_type": "execute_result"
    }
   ],
   "source": [
    "df_dups"
   ]
  },
  {
   "cell_type": "markdown",
   "id": "6e0144a2",
   "metadata": {},
   "source": [
    "#### No duplicates found."
   ]
  },
  {
   "cell_type": "code",
   "execution_count": 20,
   "id": "567f1378",
   "metadata": {},
   "outputs": [],
   "source": [
    "# Checking for mixed type data\n",
    "\n",
    "for col in df_deaths.columns.tolist():\n",
    "  weird = (df_deaths[[col]].applymap(type) != df_deaths[[col]].iloc[0].apply(type)).any(axis = 1)\n",
    "  if len (df_deaths[weird]) > 0:\n",
    "    print (col)"
   ]
  },
  {
   "cell_type": "markdown",
   "id": "5d24b87b",
   "metadata": {},
   "source": [
    "#### No mixed data type."
   ]
  },
  {
   "cell_type": "code",
   "execution_count": null,
   "id": "3af31472",
   "metadata": {},
   "outputs": [],
   "source": []
  }
 ],
 "metadata": {
  "kernelspec": {
   "display_name": "Python 3 (ipykernel)",
   "language": "python",
   "name": "python3"
  },
  "language_info": {
   "codemirror_mode": {
    "name": "ipython",
    "version": 3
   },
   "file_extension": ".py",
   "mimetype": "text/x-python",
   "name": "python",
   "nbconvert_exporter": "python",
   "pygments_lexer": "ipython3",
   "version": "3.10.9"
  }
 },
 "nbformat": 4,
 "nbformat_minor": 5
}
